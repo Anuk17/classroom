{
  "nbformat": 4,
  "nbformat_minor": 0,
  "metadata": {
    "colab": {
      "provenance": [],
      "authorship_tag": "ABX9TyPAI/MVpNl0L/+SMQO5Sm1g",
      "include_colab_link": true
    },
    "kernelspec": {
      "name": "python3",
      "display_name": "Python 3"
    },
    "language_info": {
      "name": "python"
    }
  },
  "cells": [
    {
      "cell_type": "markdown",
      "metadata": {
        "id": "view-in-github",
        "colab_type": "text"
      },
      "source": [
        "<a href=\"https://colab.research.google.com/github/Anuk17/classroom/blob/master/k_nearest.ipynb\" target=\"_parent\"><img src=\"https://colab.research.google.com/assets/colab-badge.svg\" alt=\"Open In Colab\"/></a>"
      ]
    },
    {
      "cell_type": "code",
      "source": [
        "from sklearn import datasets\n",
        "from sklearn.model_selection import train_test_split\n",
        "from sklearn.metrics import pairwise_distances\n",
        "import numpy as np\n",
        "from scipy.stats import mode\n",
        "from sklearn.metrics import accuracy_score, classification_report, confusion_matrix\n",
        "\n",
        "iris = datasets.load_iris()\n",
        "X = iris.data  # Features\n",
        "y = iris.target  # Target variable\n",
        "X_train, X_test, y_train, y_test = train_test_split(X, y, test_size=0.3, random_state=41)\n",
        "\n",
        "distances = pairwise_distances(X_train, metric='euclidean')  # Specify the metric as 'euclidean'\n",
        "\n",
        "def find_k_nearest_neighbors(distances, k):\n",
        "    k_nearest_neighbors_indices = np.argsort(distances, axis=1)[:, :k]\n",
        "    return k_nearest_neighbors_indices\n",
        "\n",
        "k = 5\n",
        "k_nearest_neighbors_indices = find_k_nearest_neighbors(distances, k)\n",
        "\n",
        "def predict_majority_class(k_nearest_neighbors_indices, y_train):\n",
        "    k_nearest_classes = y_train[k_nearest_neighbors_indices]\n",
        "    predictions, _ = mode(k_nearest_classes, axis=1)\n",
        "    return predictions.ravel()\n",
        "\n",
        "# Use k_nearest_neighbors_indices to index y_train directly\n",
        "y_pred = predict_majority_class(k_nearest_neighbors_indices, y_train)\n",
        "\n",
        "# Only consider the first len(y_test) predictions\n",
        "y_pred = y_pred[:len(y_test)]\n",
        "\n",
        "accuracy = accuracy_score(y_test, y_pred)\n",
        "print(\"Accuracy:\", accuracy)\n",
        "print(\"\\nClassification Report:\")\n",
        "print(classification_report(y_test, y_pred))\n",
        "print(\"\\nConfusion Matrix:\")\n",
        "print(confusion_matrix(y_test, y_pred))\n"
      ],
      "metadata": {
        "colab": {
          "base_uri": "https://localhost:8080/"
        },
        "id": "YICoccoJGqOQ",
        "outputId": "934a50c3-d80d-46be-bee1-9eb6a20fb058"
      },
      "execution_count": null,
      "outputs": [
        {
          "output_type": "stream",
          "name": "stdout",
          "text": [
            "Accuracy: 0.26666666666666666\n",
            "\n",
            "Classification Report:\n",
            "              precision    recall  f1-score   support\n",
            "\n",
            "           0       0.20      0.36      0.26        11\n",
            "           1       0.33      0.22      0.27        18\n",
            "           2       0.31      0.25      0.28        16\n",
            "\n",
            "    accuracy                           0.27        45\n",
            "   macro avg       0.28      0.28      0.27        45\n",
            "weighted avg       0.29      0.27      0.27        45\n",
            "\n",
            "\n",
            "Confusion Matrix:\n",
            "[[4 3 4]\n",
            " [9 4 5]\n",
            " [7 5 4]]\n"
          ]
        }
      ]
    },
    {
      "cell_type": "code",
      "source": [],
      "metadata": {
        "id": "Kw1s30GFPPq0"
      },
      "execution_count": null,
      "outputs": []
    },
    {
      "cell_type": "code",
      "source": [],
      "metadata": {
        "id": "54dy5E-8QAW_"
      },
      "execution_count": null,
      "outputs": []
    }
  ]
}